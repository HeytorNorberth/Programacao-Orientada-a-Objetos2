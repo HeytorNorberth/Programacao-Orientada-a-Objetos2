{
  "metadata": {
    "language_info": {
      "codemirror_mode": {
        "name": "python",
        "version": 3
      },
      "file_extension": ".py",
      "mimetype": "text/x-python",
      "name": "python",
      "nbconvert_exporter": "python",
      "pygments_lexer": "ipython3",
      "version": "3.8"
    },
    "kernelspec": {
      "name": "python",
      "display_name": "Python (Pyodide)",
      "language": "python"
    }
  },
  "nbformat_minor": 4,
  "nbformat": 4,
  "cells": [
    {
      "cell_type": "code",
      "source": "import numpy as np\n\n\nclass Pooling:\n    __slots__=['_img','_operacao','_janela']\n    \n    def __init__(self, img, operacao, janela=2):\n        self._img = np.array(img)\n        self._janela = janela\n        self._operacao = operacao\n        self._mudanca = (self._img.shape[0] // self._janela, self._img.shape[1] // self._janela)\n               \n     @property\n    def img(self):\n        return self._img\n\n    @foto.setter\n    def foto(self, img):\n        self._img = (img) \n               \n     @property\n    def operacao(self):\n        return self._operacao\n\n    @operacao.setter\n    def foto(self, operacao):\n        self._operacao = operacao\n               \n    @property\n    def img(self):\n        return self._janela\n\n    @janela.setter\n    def foto(self, janela):\n        self._janela = janela\n\n    def pool(self):\n        resultado = []\n        for l in range(0, self._img.shape[0], self._janela):#percorre linhas\n            for c in range(0, self._img.shape[1], self._janela): #shape ajuda a encontrar as dimensoes de um array\n                area = self._img[l:l+self._janela, c:c+self._janela]\n                if self._operacao == 'min':\n                    valor = np.min(area)\n                elif self._operacao == 'median':\n                    valor = np.median(area)\n                elif self._operacao == 'max':\n                    valor = np.max(area)\n                else:\n                    valor = np.mean(area)\n                resultado.append(int(valor)) #adiciona o valor no resultado\n        return np.reshape(resultado, self._mudanca) #dá uma nova forma á matriz sem alterar seus dados\n",
      "metadata": {
        "trusted": true
      },
      "execution_count": null,
      "outputs": []
    },
    {
      "cell_type": "code",
      "source": "\nimg = [[29,15,28,184],[0,100,70,38],[12,12,7,2],[12,12,45,6]]\nPooling(img, 'max').pool()",
      "metadata": {
        "trusted": true
      },
      "execution_count": 20,
      "outputs": [
        {
          "execution_count": 18,
          "output_type": "execute_result",
          "data": {
            "text/plain": "array([[100, 184],\n       [ 12,  45]])"
          },
          "metadata": {}
        }
      ]
    },
    {
      "cell_type": "code",
      "source": "",
      "metadata": {},
      "execution_count": null,
      "outputs": []
    }
  ]
}